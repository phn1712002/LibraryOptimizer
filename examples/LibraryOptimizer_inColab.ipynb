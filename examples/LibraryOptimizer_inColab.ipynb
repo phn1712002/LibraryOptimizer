{
  "cells": [
    {
      "cell_type": "markdown",
      "metadata": {
        "id": "jUc70s4Xoz2K"
      },
      "source": [
        "# **Install LibraryOptimizer in Google Colab**"
      ]
    },
    {
      "cell_type": "code",
      "execution_count": null,
      "metadata": {},
      "outputs": [],
      "source": [
        "!git clone https://github.com/phn1712002/LibraryOptimizer\n",
        "!cd LibraryOptimizer && pip install -e . \n",
        "import numpy as np\n",
        "from LibraryOptimizer import create_solver"
      ]
    },
    {
      "cell_type": "markdown",
      "metadata": {
        "id": "ZhTJlW-HpTrn"
      },
      "source": [
        "# **Get a list of algorithm names in the library**"
      ]
    },
    {
      "cell_type": "code",
      "execution_count": null,
      "metadata": {
        "id": "2oXGwnVkMTzI"
      },
      "outputs": [],
      "source": [
        "!python /content/LibraryOptimizer/test/example_test.py -list"
      ]
    },
    {
      "cell_type": "markdown",
      "metadata": {
        "id": "xBLWJj5VpZDe"
      },
      "source": [
        "# **Define some basic zdt issues**"
      ]
    },
    {
      "cell_type": "code",
      "execution_count": null,
      "metadata": {
        "id": "MjNSVvxSk5ra"
      },
      "outputs": [],
      "source": [
        "# Define objective function (Multi-objective) - Example: ZDT1 function\n",
        "def dtlz2_function(x, m=3):\n",
        "    import numpy as np\n",
        "    n = len(x)\n",
        "    g = np.sum((x[m-1:] - 0.5)**2)\n",
        "    f = []\n",
        "    for i in range(m):\n",
        "        prod = (1 + g)\n",
        "        for j in range(m - i - 1):\n",
        "            prod *= np.cos(x[j] * np.pi / 2)\n",
        "        if i > 0:\n",
        "            prod *= np.sin(x[m - i - 1] * np.pi / 2)\n",
        "        f.append(prod)\n",
        "    return np.array(f)\n",
        "\n",
        "def zdt3_function(x):\n",
        "    f1 = x[0]\n",
        "    g = 1 + 9 * np.sum(x[1:]) / (len(x) - 1)\n",
        "    h = 1 - np.sqrt(f1 / g) - (f1 / g) * np.sin(10 * np.pi * f1)\n",
        "    f2 = g * h\n",
        "    return np.array([f1, f2])\n",
        "\n",
        "def zdt1_function(x):\n",
        "  f1 = x[0]\n",
        "  g = 1 + 9 * np.sum(x[1:]) / (len(x) - 1)\n",
        "  h = 1 - np.sqrt(f1 / g)\n",
        "  f2 = g * h\n",
        "  return np.array([f1, f2])\n",
        "\n",
        "lb_zdt = 0\n",
        "ub_zdt = 1"
      ]
    },
    {
      "cell_type": "markdown",
      "metadata": {
        "id": "p88BVuQXphZd"
      },
      "source": [
        "# **Looking for solutions**"
      ]
    },
    {
      "cell_type": "code",
      "execution_count": null,
      "metadata": {
        "id": "12C-aRNrNd9c"
      },
      "outputs": [],
      "source": [
        "# Create optimizer instance\n",
        "optimizer = create_solver(\n",
        "    solver_name='BiogeographyBasedOptimizer', # Use a multi-objective optimizer\n",
        "    objective_func=dtlz2_function,\n",
        "    lb=lb_zdt,  # Lower bound\n",
        "    ub=ub_zdt,   # Upper bound\n",
        "    dim=6,   # Problem dimension\n",
        "    maximize=False,  # Minimization problem\n",
        "    archive_size=100,\n",
        ")\n",
        "\n",
        "# Run optimization\n",
        "history, best_solver = optimizer.solver(\n",
        "    search_agents_no=500,  # Population size\n",
        "    max_iter=100          # Maximum iterations\n",
        ")"
      ]
    },
    {
      "cell_type": "markdown",
      "metadata": {
        "id": "07zAiF2Rpl4D"
      },
      "source": [
        "# **Quick test with basic test kit**"
      ]
    },
    {
      "cell_type": "code",
      "execution_count": null,
      "metadata": {
        "id": "qxKGaDKOKhdx"
      },
      "outputs": [],
      "source": [
        "!python /content/LibraryOptimizer/test/example_test.py -name GreyWolfOptimizer"
      ]
    }
  ],
  "metadata": {
    "colab": {
      "private_outputs": true,
      "provenance": [],
      "toc_visible": true
    },
    "kernelspec": {
      "display_name": "Python 3",
      "name": "python3"
    },
    "language_info": {
      "name": "python"
    }
  },
  "nbformat": 4,
  "nbformat_minor": 0
}
